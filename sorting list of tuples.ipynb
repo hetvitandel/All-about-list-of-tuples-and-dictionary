{
 "cells": [
  {
   "cell_type": "code",
   "execution_count": 5,
   "id": "2268154c",
   "metadata": {},
   "outputs": [
    {
     "name": "stdout",
     "output_type": "stream",
     "text": [
      "(2, 1) (1, 2) (2, 3) (4, 4) (2, 5) "
     ]
    }
   ],
   "source": [
    "a=[(2,5),(1,2),(4,4),(2,3),(2,1)]\n",
    "for i in range(1,len(a)):\n",
    "    for j in range(len(a)-i):\n",
    "        if a[j][1]>a[j+1][1]:\n",
    "            lst=a[j]\n",
    "            a[j]=a[j+1]\n",
    "            a[j+1]=lst\n",
    "for i in range(len(a)):\n",
    "    print(a[i] ,end=' ')\n",
    "        "
   ]
  },
  {
   "cell_type": "code",
   "execution_count": null,
   "id": "33c9ca1a",
   "metadata": {},
   "outputs": [],
   "source": []
  }
 ],
 "metadata": {
  "kernelspec": {
   "display_name": "Python 3 (ipykernel)",
   "language": "python",
   "name": "python3"
  },
  "language_info": {
   "codemirror_mode": {
    "name": "ipython",
    "version": 3
   },
   "file_extension": ".py",
   "mimetype": "text/x-python",
   "name": "python",
   "nbconvert_exporter": "python",
   "pygments_lexer": "ipython3",
   "version": "3.9.7"
  }
 },
 "nbformat": 4,
 "nbformat_minor": 5
}
